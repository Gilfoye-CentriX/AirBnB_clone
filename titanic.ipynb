{
 "cells": [
  {
   "cell_type": "code",
   "execution_count": 1,
   "id": "559b3bbc",
   "metadata": {
    "execution": {
     "iopub.execute_input": "2024-10-29T13:20:25.205468Z",
     "iopub.status.busy": "2024-10-29T13:20:25.205002Z",
     "iopub.status.idle": "2024-10-29T13:20:26.538516Z",
     "shell.execute_reply": "2024-10-29T13:20:26.537243Z"
    },
    "papermill": {
     "duration": 1.342386,
     "end_time": "2024-10-29T13:20:26.541106",
     "exception": false,
     "start_time": "2024-10-29T13:20:25.198720",
     "status": "completed"
    },
    "tags": []
   },
   "outputs": [
    {
     "data": {
      "text/plain": [
       "(   PassengerId  Survived  Pclass  \\\n",
       " 0            1         0       3   \n",
       " 1            2         1       1   \n",
       " 2            3         1       3   \n",
       " 3            4         1       1   \n",
       " 4            5         0       3   \n",
       " \n",
       "                                                 Name     Sex   Age  SibSp  \\\n",
       " 0                            Braund, Mr. Owen Harris    male  22.0      1   \n",
       " 1  Cumings, Mrs. John Bradley (Florence Briggs Th...  female  38.0      1   \n",
       " 2                             Heikkinen, Miss. Laina  female  26.0      0   \n",
       " 3       Futrelle, Mrs. Jacques Heath (Lily May Peel)  female  35.0      1   \n",
       " 4                           Allen, Mr. William Henry    male  35.0      0   \n",
       " \n",
       "    Parch            Ticket     Fare Cabin Embarked  \n",
       " 0      0         A/5 21171   7.2500   NaN        S  \n",
       " 1      0          PC 17599  71.2833   C85        C  \n",
       " 2      0  STON/O2. 3101282   7.9250   NaN        S  \n",
       " 3      0            113803  53.1000  C123        S  \n",
       " 4      0            373450   8.0500   NaN        S  ,\n",
       "    PassengerId  Pclass                                          Name     Sex  \\\n",
       " 0          892       3                              Kelly, Mr. James    male   \n",
       " 1          893       3              Wilkes, Mrs. James (Ellen Needs)  female   \n",
       " 2          894       2                     Myles, Mr. Thomas Francis    male   \n",
       " 3          895       3                              Wirz, Mr. Albert    male   \n",
       " 4          896       3  Hirvonen, Mrs. Alexander (Helga E Lindqvist)  female   \n",
       " \n",
       "     Age  SibSp  Parch   Ticket     Fare Cabin Embarked  \n",
       " 0  34.5      0      0   330911   7.8292   NaN        Q  \n",
       " 1  47.0      1      0   363272   7.0000   NaN        S  \n",
       " 2  62.0      0      0   240276   9.6875   NaN        Q  \n",
       " 3  27.0      0      0   315154   8.6625   NaN        S  \n",
       " 4  22.0      1      1  3101298  12.2875   NaN        S  ,\n",
       "    PassengerId  Survived\n",
       " 0          892         0\n",
       " 1          893         1\n",
       " 2          894         0\n",
       " 3          895         0\n",
       " 4          896         1)"
      ]
     },
     "execution_count": 1,
     "metadata": {},
     "output_type": "execute_result"
    }
   ],
   "source": [
    "import pandas as pd\n",
    "\n",
    "# Load the datasets\n",
    "train_data = pd.read_csv(\"/kaggle/input/titanic/train.csv\")\n",
    "test_data = pd.read_csv(\"/kaggle/input/titanic/test.csv\")\n",
    "gender_submission = pd.read_csv(\"/kaggle/input/titanic/gender_submission.csv\")\n",
    "\n",
    "# Preview the first few rows of each dataset\n",
    "train_preview = train_data.head()\n",
    "test_preview = test_data.head()\n",
    "gender_submission_preview = gender_submission.head()\n",
    "\n",
    "train_preview, test_preview, gender_submission_preview\n"
   ]
  },
  {
   "cell_type": "code",
   "execution_count": 2,
   "id": "de04c983",
   "metadata": {
    "execution": {
     "iopub.execute_input": "2024-10-29T13:20:26.551860Z",
     "iopub.status.busy": "2024-10-29T13:20:26.551215Z",
     "iopub.status.idle": "2024-10-29T13:20:26.567161Z",
     "shell.execute_reply": "2024-10-29T13:20:26.565736Z"
    },
    "papermill": {
     "duration": 0.024385,
     "end_time": "2024-10-29T13:20:26.569934",
     "exception": false,
     "start_time": "2024-10-29T13:20:26.545549",
     "status": "completed"
    },
    "tags": []
   },
   "outputs": [
    {
     "data": {
      "text/plain": [
       "(PassengerId      0\n",
       " Survived         0\n",
       " Pclass           0\n",
       " Name             0\n",
       " Sex              0\n",
       " Age            177\n",
       " SibSp            0\n",
       " Parch            0\n",
       " Ticket           0\n",
       " Fare             0\n",
       " Cabin          687\n",
       " Embarked         2\n",
       " dtype: int64,\n",
       " PassengerId      0\n",
       " Pclass           0\n",
       " Name             0\n",
       " Sex              0\n",
       " Age             86\n",
       " SibSp            0\n",
       " Parch            0\n",
       " Ticket           0\n",
       " Fare             1\n",
       " Cabin          327\n",
       " Embarked         0\n",
       " dtype: int64)"
      ]
     },
     "execution_count": 2,
     "metadata": {},
     "output_type": "execute_result"
    }
   ],
   "source": [
    "# Check for missing values in the train and test datasets\n",
    "train_data.isnull().sum(), test_data.isnull().sum()\n"
   ]
  },
  {
   "cell_type": "code",
   "execution_count": 3,
   "id": "8ec33365",
   "metadata": {
    "execution": {
     "iopub.execute_input": "2024-10-29T13:20:26.580684Z",
     "iopub.status.busy": "2024-10-29T13:20:26.580217Z",
     "iopub.status.idle": "2024-10-29T13:20:26.616806Z",
     "shell.execute_reply": "2024-10-29T13:20:26.615038Z"
    },
    "papermill": {
     "duration": 0.045225,
     "end_time": "2024-10-29T13:20:26.619645",
     "exception": false,
     "start_time": "2024-10-29T13:20:26.574420",
     "status": "completed"
    },
    "tags": []
   },
   "outputs": [
    {
     "name": "stderr",
     "output_type": "stream",
     "text": [
      "/tmp/ipykernel_17/428099387.py:2: FutureWarning: A value is trying to be set on a copy of a DataFrame or Series through chained assignment using an inplace method.\n",
      "The behavior will change in pandas 3.0. This inplace method will never work because the intermediate object on which we are setting values always behaves as a copy.\n",
      "\n",
      "For example, when doing 'df[col].method(value, inplace=True)', try using 'df.method({col: value}, inplace=True)' or df[col] = df[col].method(value) instead, to perform the operation inplace on the original object.\n",
      "\n",
      "\n",
      "  train_data['Age'].fillna(train_data['Age'].median(), inplace=True)\n",
      "/tmp/ipykernel_17/428099387.py:3: FutureWarning: A value is trying to be set on a copy of a DataFrame or Series through chained assignment using an inplace method.\n",
      "The behavior will change in pandas 3.0. This inplace method will never work because the intermediate object on which we are setting values always behaves as a copy.\n",
      "\n",
      "For example, when doing 'df[col].method(value, inplace=True)', try using 'df.method({col: value}, inplace=True)' or df[col] = df[col].method(value) instead, to perform the operation inplace on the original object.\n",
      "\n",
      "\n",
      "  test_data['Age'].fillna(test_data['Age'].median(), inplace=True)\n",
      "/tmp/ipykernel_17/428099387.py:6: FutureWarning: A value is trying to be set on a copy of a DataFrame or Series through chained assignment using an inplace method.\n",
      "The behavior will change in pandas 3.0. This inplace method will never work because the intermediate object on which we are setting values always behaves as a copy.\n",
      "\n",
      "For example, when doing 'df[col].method(value, inplace=True)', try using 'df.method({col: value}, inplace=True)' or df[col] = df[col].method(value) instead, to perform the operation inplace on the original object.\n",
      "\n",
      "\n",
      "  train_data['Embarked'].fillna(train_data['Embarked'].mode()[0], inplace=True)\n",
      "/tmp/ipykernel_17/428099387.py:9: FutureWarning: A value is trying to be set on a copy of a DataFrame or Series through chained assignment using an inplace method.\n",
      "The behavior will change in pandas 3.0. This inplace method will never work because the intermediate object on which we are setting values always behaves as a copy.\n",
      "\n",
      "For example, when doing 'df[col].method(value, inplace=True)', try using 'df.method({col: value}, inplace=True)' or df[col] = df[col].method(value) instead, to perform the operation inplace on the original object.\n",
      "\n",
      "\n",
      "  test_data['Fare'].fillna(test_data['Fare'].median(), inplace=True)\n"
     ]
    },
    {
     "data": {
      "text/plain": [
       "(PassengerId    0\n",
       " Survived       0\n",
       " Pclass         0\n",
       " Name           0\n",
       " Sex            0\n",
       " Age            0\n",
       " SibSp          0\n",
       " Parch          0\n",
       " Ticket         0\n",
       " Fare           0\n",
       " Embarked       0\n",
       " dtype: int64,\n",
       " PassengerId    0\n",
       " Pclass         0\n",
       " Name           0\n",
       " Sex            0\n",
       " Age            0\n",
       " SibSp          0\n",
       " Parch          0\n",
       " Ticket         0\n",
       " Fare           0\n",
       " Embarked       0\n",
       " dtype: int64)"
      ]
     },
     "execution_count": 3,
     "metadata": {},
     "output_type": "execute_result"
    }
   ],
   "source": [
    "# Fill missing Age with median in both train and test datasets\n",
    "train_data['Age'].fillna(train_data['Age'].median(), inplace=True)\n",
    "test_data['Age'].fillna(test_data['Age'].median(), inplace=True)\n",
    "\n",
    "# Fill missing Embarked values with the most frequent value in train dataset\n",
    "train_data['Embarked'].fillna(train_data['Embarked'].mode()[0], inplace=True)\n",
    "\n",
    "# Fill missing Fare value in the test dataset with the median Fare\n",
    "test_data['Fare'].fillna(test_data['Fare'].median(), inplace=True)\n",
    "\n",
    "# Drop the Cabin column as it has too many missing values\n",
    "train_data.drop(columns=['Cabin'], inplace=True)\n",
    "test_data.drop(columns=['Cabin'], inplace=True)\n",
    "\n",
    "# Verify that missing values are handled\n",
    "train_data.isnull().sum(), test_data.isnull().sum()\n"
   ]
  },
  {
   "cell_type": "code",
   "execution_count": 4,
   "id": "24e2ae9d",
   "metadata": {
    "execution": {
     "iopub.execute_input": "2024-10-29T13:20:26.632013Z",
     "iopub.status.busy": "2024-10-29T13:20:26.630591Z",
     "iopub.status.idle": "2024-10-29T13:20:26.660489Z",
     "shell.execute_reply": "2024-10-29T13:20:26.659275Z"
    },
    "papermill": {
     "duration": 0.039053,
     "end_time": "2024-10-29T13:20:26.663479",
     "exception": false,
     "start_time": "2024-10-29T13:20:26.624426",
     "status": "completed"
    },
    "tags": []
   },
   "outputs": [
    {
     "data": {
      "text/plain": [
       "(   PassengerId  Survived  Pclass   Age  SibSp  Parch     Fare  Sex_male  \\\n",
       " 0            1         0       3  22.0      1      0   7.2500      True   \n",
       " 1            2         1       1  38.0      1      0  71.2833     False   \n",
       " 2            3         1       3  26.0      0      0   7.9250     False   \n",
       " 3            4         1       1  35.0      1      0  53.1000     False   \n",
       " 4            5         0       3  35.0      0      0   8.0500      True   \n",
       " \n",
       "    Embarked_Q  Embarked_S  \n",
       " 0       False        True  \n",
       " 1       False       False  \n",
       " 2       False        True  \n",
       " 3       False        True  \n",
       " 4       False        True  ,\n",
       "    PassengerId  Pclass   Age  SibSp  Parch     Fare  Sex_male  Embarked_Q  \\\n",
       " 0          892       3  34.5      0      0   7.8292      True        True   \n",
       " 1          893       3  47.0      1      0   7.0000     False       False   \n",
       " 2          894       2  62.0      0      0   9.6875      True        True   \n",
       " 3          895       3  27.0      0      0   8.6625      True       False   \n",
       " 4          896       3  22.0      1      1  12.2875     False       False   \n",
       " \n",
       "    Embarked_S  \n",
       " 0       False  \n",
       " 1        True  \n",
       " 2       False  \n",
       " 3        True  \n",
       " 4        True  )"
      ]
     },
     "execution_count": 4,
     "metadata": {},
     "output_type": "execute_result"
    }
   ],
   "source": [
    "# Convert categorical features 'Sex' and 'Embarked' into numerical values using one-hot encoding\n",
    "train_data = pd.get_dummies(train_data, columns=['Sex', 'Embarked'], drop_first=True)\n",
    "test_data = pd.get_dummies(test_data, columns=['Sex', 'Embarked'], drop_first=True)\n",
    "\n",
    "# Drop 'Name' and 'Ticket' columns, as they don't directly contribute to the prediction\n",
    "train_data.drop(columns=['Name', 'Ticket'], inplace=True)\n",
    "test_data.drop(columns=['Name', 'Ticket'], inplace=True)\n",
    "\n",
    "# Check the structure of the cleaned datasets\n",
    "train_data.head(), test_data.head()\n"
   ]
  },
  {
   "cell_type": "code",
   "execution_count": 5,
   "id": "0aaa8bf0",
   "metadata": {
    "execution": {
     "iopub.execute_input": "2024-10-29T13:20:26.675554Z",
     "iopub.status.busy": "2024-10-29T13:20:26.675089Z",
     "iopub.status.idle": "2024-10-29T13:20:26.683797Z",
     "shell.execute_reply": "2024-10-29T13:20:26.682574Z"
    },
    "papermill": {
     "duration": 0.017793,
     "end_time": "2024-10-29T13:20:26.686464",
     "exception": false,
     "start_time": "2024-10-29T13:20:26.668671",
     "status": "completed"
    },
    "tags": []
   },
   "outputs": [],
   "source": [
    "# Split the train data into features and target\n",
    "X_train = train_data.drop(columns=['Survived', 'PassengerId'])\n",
    "y_train = train_data['Survived']\n",
    "\n",
    "# The test set for prediction\n",
    "X_test = test_data.drop(columns=['PassengerId'])\n"
   ]
  },
  {
   "cell_type": "code",
   "execution_count": 6,
   "id": "aa460961",
   "metadata": {
    "execution": {
     "iopub.execute_input": "2024-10-29T13:20:26.698920Z",
     "iopub.status.busy": "2024-10-29T13:20:26.698001Z",
     "iopub.status.idle": "2024-10-29T13:20:29.605093Z",
     "shell.execute_reply": "2024-10-29T13:20:29.603534Z"
    },
    "papermill": {
     "duration": 2.916333,
     "end_time": "2024-10-29T13:20:29.607805",
     "exception": false,
     "start_time": "2024-10-29T13:20:26.691472",
     "status": "completed"
    },
    "tags": []
   },
   "outputs": [
    {
     "name": "stdout",
     "output_type": "stream",
     "text": [
      "Validation accuracy: 0.8212290502793296\n"
     ]
    }
   ],
   "source": [
    "from sklearn.ensemble import RandomForestClassifier\n",
    "from sklearn.model_selection import train_test_split\n",
    "from sklearn.metrics import accuracy_score\n",
    "\n",
    "# Split train set further for validation\n",
    "X_train_part, X_val, y_train_part, y_val = train_test_split(X_train, y_train, test_size=0.2, random_state=42)\n",
    "\n",
    "# Train a Random Forest model\n",
    "model = RandomForestClassifier(n_estimators=100, random_state=42)\n",
    "model.fit(X_train_part, y_train_part)\n",
    "\n",
    "# Predict on validation set and test set\n",
    "y_val_pred = model.predict(X_val)\n",
    "val_accuracy = accuracy_score(y_val, y_val_pred)\n",
    "print(f'Validation accuracy: {val_accuracy}')\n",
    "\n",
    "# Make predictions on the test set\n",
    "y_test_pred = model.predict(X_test)\n"
   ]
  },
  {
   "cell_type": "code",
   "execution_count": 7,
   "id": "9baf0e90",
   "metadata": {
    "execution": {
     "iopub.execute_input": "2024-10-29T13:20:29.620881Z",
     "iopub.status.busy": "2024-10-29T13:20:29.620247Z",
     "iopub.status.idle": "2024-10-29T13:20:29.631798Z",
     "shell.execute_reply": "2024-10-29T13:20:29.630509Z"
    },
    "papermill": {
     "duration": 0.021141,
     "end_time": "2024-10-29T13:20:29.634803",
     "exception": false,
     "start_time": "2024-10-29T13:20:29.613662",
     "status": "completed"
    },
    "tags": []
   },
   "outputs": [],
   "source": [
    "submission = pd.DataFrame({'PassengerId': test_data['PassengerId'], 'Survived': y_test_pred})\n",
    "submission.to_csv('titanic_predictions.csv', index=False)\n"
   ]
  },
  {
   "cell_type": "code",
   "execution_count": null,
   "id": "d63b4cc8",
   "metadata": {
    "papermill": {
     "duration": 0.004708,
     "end_time": "2024-10-29T13:20:29.644636",
     "exception": false,
     "start_time": "2024-10-29T13:20:29.639928",
     "status": "completed"
    },
    "tags": []
   },
   "outputs": [],
   "source": []
  }
 ],
 "metadata": {
  "kaggle": {
   "accelerator": "none",
   "dataSources": [
    {
     "databundleVersionId": 26502,
     "sourceId": 3136,
     "sourceType": "competition"
    }
   ],
   "dockerImageVersionId": 30786,
   "isGpuEnabled": false,
   "isInternetEnabled": true,
   "language": "python",
   "sourceType": "notebook"
  },
  "kernelspec": {
   "display_name": "Python 3",
   "language": "python",
   "name": "python3"
  },
  "language_info": {
   "codemirror_mode": {
    "name": "ipython",
    "version": 3
   },
   "file_extension": ".py",
   "mimetype": "text/x-python",
   "name": "python",
   "nbconvert_exporter": "python",
   "pygments_lexer": "ipython3",
   "version": "3.10.14"
  },
  "papermill": {
   "default_parameters": {},
   "duration": 8.99789,
   "end_time": "2024-10-29T13:20:30.373440",
   "environment_variables": {},
   "exception": null,
   "input_path": "__notebook__.ipynb",
   "output_path": "__notebook__.ipynb",
   "parameters": {},
   "start_time": "2024-10-29T13:20:21.375550",
   "version": "2.6.0"
  }
 },
 "nbformat": 4,
 "nbformat_minor": 5
}
